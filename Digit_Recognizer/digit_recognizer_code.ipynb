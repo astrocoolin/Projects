{
 "cells": [
  {
   "cell_type": "code",
   "execution_count": 1,
   "metadata": {
    "_cell_guid": "1d826e97-4b74-48c7-8d5c-bcb802d0d670",
    "_uuid": "2ea72911-85cf-4530-b750-bb3206dfae6f"
   },
   "outputs": [
    {
     "name": "stdout",
     "output_type": "stream",
     "text": [
      "/kaggle/input/digit-recognizer/train.csv\n",
      "/kaggle/input/digit-recognizer/sample_submission.csv\n",
      "/kaggle/input/digit-recognizer/test.csv\n"
     ]
    }
   ],
   "source": [
    "# This Python 3 environment comes with many helpful analytics libraries installed\n",
    "# It is defined by the kaggle/python docker image: https://github.com/kaggle/docker-python\n",
    "# For example, here's several helpful packages to load in \n",
    "\n",
    "import numpy as np # linear algebra\n",
    "import pandas as pd # data processing, CSV file I/O (e.g. pd.read_csv)\n",
    "\n",
    "# Input data files are available in the \"../input/\" directory.\n",
    "# For example, running this (by clicking run or pressing Shift+Enter) will list all files under the input directory\n",
    "\n",
    "import os\n",
    "for dirname, _, filenames in os.walk('/kaggle/input'):\n",
    "    for filename in filenames:\n",
    "        print(os.path.join(dirname, filename))\n",
    "\n",
    "# Any results you write to the current directory are saved as output.\n",
    "\n",
    "test_data = pd.read_csv('/kaggle/input/digit-recognizer/test.csv')\n",
    "train_data = pd.read_csv('/kaggle/input/digit-recognizer/train.csv')\n",
    "\n",
    "train_data.describe()\n",
    "\n",
    "from tensorflow import keras\n",
    "from tensorflow.keras.models import Sequential\n",
    "from tensorflow.keras.layers import Dense, Flatten, Conv2D\n",
    "img_rows, img_cols = 28, 28\n",
    "num_classes = 10\n",
    "model = Sequential()\n",
    "\n",
    "model.add(Conv2D(12,\n",
    "                kernel_size=3,\n",
    "                input_shape=(img_rows,img_cols,1),\n",
    "                activation='relu'))\n",
    "\n",
    "model.add(Conv2D(20,\n",
    "                         activation='relu',\n",
    "                         kernel_size=3))\n",
    "model.add(Conv2D(20,\n",
    "                         activation='relu',\n",
    "                         kernel_size=3))\n",
    "model.add(Flatten())\n",
    "model.add(Dense(100, activation='relu'))\n",
    "model.add(Dense(num_classes, activation='softmax'))\n",
    "model.compile(loss = \"categorical_crossentropy\",optimizer = 'adam',metrics = ['accuracy'])\n",
    "\n"
   ]
  },
  {
   "cell_type": "code",
   "execution_count": 2,
   "metadata": {},
   "outputs": [],
   "source": [
    "\n",
    "y = train_data['label']\n",
    "num_images = len(y)\n",
    "y = keras.utils.to_categorical(y,10)\n",
    "x = train_data.drop('label',axis=1).to_numpy().reshape(num_images, img_rows, img_cols, 1)\n"
   ]
  },
  {
   "cell_type": "code",
   "execution_count": 3,
   "metadata": {},
   "outputs": [
    {
     "name": "stdout",
     "output_type": "stream",
     "text": [
      "Train on 33600 samples, validate on 8400 samples\n",
      "Epoch 1/4\n",
      "33600/33600 [==============================] - 27s 790us/sample - loss: 0.6358 - accuracy: 0.9098 - val_loss: 0.0977 - val_accuracy: 0.9700\n",
      "Epoch 2/4\n",
      "33600/33600 [==============================] - 26s 761us/sample - loss: 0.0467 - accuracy: 0.9858 - val_loss: 0.0757 - val_accuracy: 0.9760\n",
      "Epoch 3/4\n",
      "33600/33600 [==============================] - 26s 760us/sample - loss: 0.0215 - accuracy: 0.9928 - val_loss: 0.0781 - val_accuracy: 0.9781\n",
      "Epoch 4/4\n",
      "33600/33600 [==============================] - 26s 763us/sample - loss: 0.0146 - accuracy: 0.9954 - val_loss: 0.0832 - val_accuracy: 0.9785\n"
     ]
    },
    {
     "data": {
      "text/plain": [
       "<tensorflow.python.keras.callbacks.History at 0x7f20904376d8>"
      ]
     },
     "execution_count": 3,
     "metadata": {},
     "output_type": "execute_result"
    }
   ],
   "source": [
    "model.fit(x,y,batch_size = 100,epochs = 4,validation_split = 0.2)"
   ]
  },
  {
   "cell_type": "code",
   "execution_count": 4,
   "metadata": {},
   "outputs": [],
   "source": [
    "num_predict = len(test_data)\n",
    "x = test_data.to_numpy().reshape(num_predict, img_rows, img_cols, 1)\n",
    "#print(x)\n",
    "len(x)\n",
    "predict = model.predict(x)"
   ]
  },
  {
   "cell_type": "code",
   "execution_count": 5,
   "metadata": {},
   "outputs": [],
   "source": [
    "predict_DF = pd.DataFrame(predict).idxmax(axis=1)\n",
    "predict_DF = pd.DataFrame(predict_DF,columns=['Label'])\n",
    "predict_DF.index += 1\n",
    "predict_DF.to_csv('submission.csv', index_label='ImageId')"
   ]
  }
 ],
 "metadata": {
  "kernelspec": {
   "display_name": "Python 3",
   "language": "python",
   "name": "python3"
  },
  "language_info": {
   "codemirror_mode": {
    "name": "ipython",
    "version": 3
   },
   "file_extension": ".py",
   "mimetype": "text/x-python",
   "name": "python",
   "nbconvert_exporter": "python",
   "pygments_lexer": "ipython3",
   "version": "3.6.6"
  }
 },
 "nbformat": 4,
 "nbformat_minor": 1
}
