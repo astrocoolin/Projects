{
 "cells": [
  {
   "cell_type": "code",
   "execution_count": 1,
   "metadata": {},
   "outputs": [],
   "source": [
    "#! /usr/bin/env python3\n",
    "# Import packages\n",
    "import pandas as pd\n",
    "import numpy as np\n",
    "import time \n",
    "import matplotlib.pyplot as plt\n",
    "from sklearn.impute import SimpleImputer\n",
    "from sklearn.ensemble import RandomForestRegressor as RFR\n",
    "from sklearn.tree import DecisionTreeRegressor as DTR\n",
    "from sklearn.linear_model import ElasticNet\n",
    "from sklearn.linear_model import Lasso\n",
    "from sklearn import svm\n",
    "from sklearn.linear_model import Ridge \n",
    "from sklearn.linear_model import BayesianRidge\n",
    "from sklearn.metrics import mean_absolute_error\n",
    "from sklearn.model_selection import train_test_split"
   ]
  },
  {
   "cell_type": "code",
   "execution_count": 2,
   "metadata": {},
   "outputs": [],
   "source": [
    "def Optimize_regression(x,y,x_valid,y_valid):\n",
    "    # The model of choice goes here\n",
    "    print(\"Setting up models...\")\n",
    "    BO_model_RFR = RFR(random_state=1,n_estimators=100)\n",
    "    BO_model_DTR = DTR(random_state=1)\n",
    "    BO_model_Ridge = Ridge(random_state=1,alpha=1)\n",
    "    BO_model_Bayes_Ridge = BayesianRidge()\n",
    "    BO_model_SVR = svm.SVR(gamma='scale')\n",
    "    BO_model_EN = ElasticNet()\n",
    "    BO_model_Lasso = Lasso()\n",
    "\n",
    "    d =    {'Model_Name': [\n",
    "            \"Random Forest Regression\",\n",
    "            \"Decision Tree Regression\",\n",
    "            #\"Ridge\",\n",
    "            \"Bayes_Ridge\",\n",
    "            'Support Vector Regression',\n",
    "            #'Elastic_Net',\n",
    "            'Lasso',\n",
    "            ],\n",
    "            \n",
    "            'Model': [\n",
    "            BO_model_RFR,\n",
    "            BO_model_DTR,\n",
    "            #BO_model_Ridge,\n",
    "            BO_model_Bayes_Ridge,\n",
    "            BO_model_SVR,\n",
    "            #BO_model_EN,\n",
    "            BO_model_Lasso\n",
    "            \n",
    "        ],\n",
    "        'MAE': [0.0,0.0,0.0,0.0,0.0],#0.0,0.0],\n",
    "        'Fit_Time' : [0.0, 0.0, 0.0, 0.0, 0.0],#0.0,0.0]\n",
    "        }\n",
    "    \n",
    "    df = pd.DataFrame(data=d)\n",
    "    \n",
    "    for i,m_type in enumerate(df[\"Model\"]):\n",
    "        # time before\n",
    "        time_a = time.time()\n",
    "        # fit\n",
    "        m_type.fit(x,y.values.ravel())\n",
    "        df['MAE'].values[i] = mean_absolute_error(y_valid, m_type.predict(x_valid))\n",
    "        # time after\n",
    "        time_b = time.time()\n",
    "        df['Fit_Time'].values[i] = time_b - time_a\n",
    "    # best model\n",
    "    min_mod = df['Model_Name'][df['MAE']==df['MAE'].min()]\n",
    "    return(df,min_mod.iloc[0])"
   ]
  },
  {
   "cell_type": "code",
   "execution_count": 3,
   "metadata": {},
   "outputs": [
    {
     "name": "stdout",
     "output_type": "stream",
     "text": [
      "Reading in data...\n",
      "Setting up models...\n"
     ]
    },
    {
     "name": "stderr",
     "output_type": "stream",
     "text": [
      "/usr/lib/python3.8/site-packages/sklearn/linear_model/coordinate_descent.py:473: ConvergenceWarning: Objective did not converge. You might want to increase the number of iterations. Duality gap: 5.056687002865966e+18, tolerance: 4347238191841390.0\n",
      "  model = cd_fast.enet_coordinate_descent(\n"
     ]
    }
   ],
   "source": [
    "#Load the training set and the test set\n",
    "print('Reading in data...')\n",
    "BO_train, BO_valid = train_test_split(pd.read_csv('train.csv'))\n",
    "BO_submit = pd.read_csv('test.csv')\n",
    "\n",
    "#The columns I care about (for now)\n",
    "BO_columns = [\"budget\",\"runtime\",\"revenue\"]\n",
    "\n",
    "#Columns in X data and Y data, respectively\n",
    "BO_in = [\"budget\",\"runtime\"]\n",
    "BO_out = [\"revenue\"]\n",
    "\n",
    "#Trim the train and test data\n",
    "BO_train=BO_train[BO_columns]\n",
    "BO_valid=BO_valid[BO_columns]\n",
    "\n",
    "#Estimate values for which there is no data\n",
    "my_imputer = SimpleImputer()\n",
    "imputed_BO_train = pd.DataFrame(my_imputer.fit_transform(BO_train))\n",
    "imputed_BO_valid = pd.DataFrame(my_imputer.transform(BO_valid))\n",
    "\n",
    "#Reset the column names to that of the data\n",
    "imputed_BO_train.columns = BO_train.columns\n",
    "imputed_BO_valid.columns = BO_valid.columns\n",
    "\n",
    "#Split the data into training and testing data\n",
    "x = imputed_BO_train[BO_in]\n",
    "y = imputed_BO_train[BO_out]\n",
    "x_valid = imputed_BO_valid[BO_in]\n",
    "y_valid = imputed_BO_valid[BO_out]\n",
    "\n",
    "#Find the best mml model\n",
    "Models_df,mname = Optimize_regression(x,y,x_valid,y_valid) "
   ]
  },
  {
   "cell_type": "code",
   "execution_count": 5,
   "metadata": {},
   "outputs": [
    {
     "data": {
      "image/png": "[encoded data removed]",
      "text/plain": [
       "<Figure size 720x432 with 1 Axes>"
      ]
     },
     "metadata": {
      "needs_background": "light"
     },
     "output_type": "display_data"
    }
   ],
   "source": [
    "#print('Best model for this data (default settings):',mname)\n",
    "\n",
    "#print(Models_df)\n",
    "fig, ax = plt.subplots(figsize=(10,6))\n",
    "plt.scatter(x=Models_df['MAE'].to_numpy(),y=Models_df['Fit_Time'].to_numpy())\n",
    "for i, txt in enumerate(Models_df['Model_Name'].to_numpy()):\n",
    "\tax.annotate(txt,(Models_df['MAE'].to_numpy()[i],Models_df['Fit_Time'].to_numpy()[i]))\n",
    "plt.xlabel('Mean Absolute Error')\n",
    "plt.ylabel('Fit Time [S]')\n",
    "plt.show()"
   ]
  },
  {
   "cell_type": "code",
   "execution_count": null,
   "metadata": {},
   "outputs": [],
   "source": []
  }
 ],
 "metadata": {
  "kernelspec": {
   "display_name": "Python 3",
   "language": "python",
   "name": "python3"
  },
  "language_info": {
   "codemirror_mode": {
    "name": "ipython",
    "version": 3
   },
   "file_extension": ".py",
   "mimetype": "text/x-python",
   "name": "python",
   "nbconvert_exporter": "python",
   "pygments_lexer": "ipython3",
   "version": "3.8.0"
  }
 },
 "nbformat": 4,
 "nbformat_minor": 2
}
